{
 "cells": [
  {
   "cell_type": "code",
   "execution_count": 1,
   "id": "aab276e2",
   "metadata": {},
   "outputs": [
    {
     "name": "stdout",
     "output_type": "stream",
     "text": [
      "Nhap id: 1\n",
      "Nhap ten: \n",
      "Nhap tuoi: \n",
      "Nhap dia chi: \n",
      "Nhap diem toan: \n"
     ]
    },
    {
     "ename": "ValueError",
     "evalue": "invalid literal for int() with base 10: ''",
     "output_type": "error",
     "traceback": [
      "\u001b[1;31m---------------------------------------------------------------------------\u001b[0m",
      "\u001b[1;31mValueError\u001b[0m                                Traceback (most recent call last)",
      "Cell \u001b[1;32mIn [1], line 6\u001b[0m\n\u001b[0;32m      4\u001b[0m tuoi \u001b[38;5;241m=\u001b[39m \u001b[38;5;28minput\u001b[39m(\u001b[38;5;124m'\u001b[39m\u001b[38;5;124mNhap tuoi: \u001b[39m\u001b[38;5;124m'\u001b[39m)\n\u001b[0;32m      5\u001b[0m dia_chi \u001b[38;5;241m=\u001b[39m \u001b[38;5;28minput\u001b[39m(\u001b[38;5;124m'\u001b[39m\u001b[38;5;124mNhap dia chi: \u001b[39m\u001b[38;5;124m'\u001b[39m)\n\u001b[1;32m----> 6\u001b[0m diem_toan \u001b[38;5;241m=\u001b[39m \u001b[38;5;28;43mint\u001b[39;49m\u001b[43m(\u001b[49m\u001b[38;5;28;43minput\u001b[39;49m\u001b[43m(\u001b[49m\u001b[38;5;124;43m'\u001b[39;49m\u001b[38;5;124;43mNhap diem toan: \u001b[39;49m\u001b[38;5;124;43m'\u001b[39;49m\u001b[43m)\u001b[49m\u001b[43m)\u001b[49m\n\u001b[0;32m      7\u001b[0m diem_van \u001b[38;5;241m=\u001b[39m \u001b[38;5;28mint\u001b[39m(\u001b[38;5;28minput\u001b[39m(\u001b[38;5;124m'\u001b[39m\u001b[38;5;124mNhap diem van: \u001b[39m\u001b[38;5;124m'\u001b[39m))\n\u001b[0;32m      9\u001b[0m \u001b[38;5;28;01mclass\u001b[39;00m \u001b[38;5;21;01mkiem_tra\u001b[39;00m:\n",
      "\u001b[1;31mValueError\u001b[0m: invalid literal for int() with base 10: ''"
     ]
    }
   ],
   "source": [
    "# tạo chức năng kiểm tra trình độ học sinh:\n",
    "id = input('Nhap id: ')\n",
    "ten = input('Nhap ten: ')\n",
    "tuoi = input('Nhap tuoi: ')\n",
    "dia_chi = input('Nhap dia chi: ')\n",
    "diem_toan = int(input('Nhap diem toan: '))\n",
    "diem_van = int(input('Nhap diem van: '))\n",
    "\n",
    "class kiem_tra:\n",
    "    id = ''\n",
    "    ten = ''\n",
    "    tuoi = ''\n",
    "    dia_chi = ''\n",
    "    diem_toan = ''\n",
    "    dien_van = ''\n",
    "    level = ''\n",
    "    def __init__(self, id, ten, tuoi, dia_chi, diem_toan, diem_van):\n",
    "        self.id = id\n",
    "        self.ten = ten\n",
    "        self.tuoi = tuoi\n",
    "        self.dia_chi = dia_chi\n",
    "        self.diem_toan = diem_toan\n",
    "        self.diem_van = diem_van\n",
    "    def check(self, diem_toan, diem_van):\n",
    "        if diem_toan >= 8 and diem_van >= 8:\n",
    "            self.level = 'Gioi'\n",
    "        elif diem_toan <= 5 and diem_van <= 5:\n",
    "            self.level = 'kem'\n",
    "        else:\n",
    "            self.level = 'trung binh'\n",
    "    def show(self):\n",
    "        self.check(self.diem_toan, self.diem_van)\n",
    "        print(f'Thông báo {self.ten} thuộc level: {self.level}')\n",
    "\n",
    "sv1 = kiem_tra(id, ten, tuoi, dia_chi, diem_toan, diem_van)        \n",
    "sv1.show()\n"
   ]
  },
  {
   "cell_type": "code",
   "execution_count": 16,
   "id": "8a977720",
   "metadata": {},
   "outputs": [
    {
     "name": "stdout",
     "output_type": "stream",
     "text": [
      "Nhap id: 1\n",
      "Nhap ten: hieu\n",
      "Nhap diem toan: 8\n",
      "Nhap diem van: 9\n",
      "Ban có muốn nhập dữ liệu tiếp không Y/N: Y\n",
      "Nhap id: 2\n",
      "Nhap ten: nam\n",
      "Nhap diem toan: 9\n",
      "Nhap diem van: 10\n",
      "Ban có muốn nhập dữ liệu tiếp không Y/N: Y\n",
      "Nhap id: 3\n",
      "Nhap ten: binh\n",
      "Nhap diem toan: 2\n",
      "Nhap diem van: 2\n",
      "Ban có muốn nhập dữ liệu tiếp không Y/N: n\n",
      "ban muốn lọc sinh viên loại gì?gioi/trung  binh/kem gioi\n",
      "Thông báo hieu thuộc level: gioi\n",
      "Thông báo nam thuộc level: gioi\n",
      "Tổng số SV level gioi là: 2\n"
     ]
    }
   ],
   "source": [
    "# chuong trình nhập dữ liệu và xuất ra sinh viên theo tùy biến.\n",
    "class kiem_tra:\n",
    "    id = ''\n",
    "    ten = ''\n",
    "    diem_toan = ''\n",
    "    dien_van = ''\n",
    "    level = ''\n",
    "    def __init__(self, id, ten, diem_toan, diem_van):\n",
    "        self.id = id\n",
    "        self.ten = ten\n",
    "        self.diem_toan = diem_toan\n",
    "        self.diem_van = diem_van\n",
    "    def check(self, diem_toan, diem_van):\n",
    "        if diem_toan >= 8 and diem_van >= 8:\n",
    "            self.level = 'gioi'\n",
    "        elif diem_toan <= 5 and diem_van <= 5:\n",
    "            self.level = 'kem'\n",
    "        else:\n",
    "            self.level = 'trung binh'\n",
    "    def show(self):\n",
    "        print(f'Thông báo {self.ten} thuộc level: {self.level}')\n",
    "\n",
    "check = 'Y'\n",
    "list = []\n",
    "while check == 'Y':\n",
    "    id = input('Nhap id: ')\n",
    "    ten = input('Nhap ten: ')\n",
    "    diem_toan = int(input('Nhap diem toan: '))\n",
    "    diem_van = int(input('Nhap diem van: '))\n",
    "    sv1 = kiem_tra(id, ten, diem_toan, diem_van)\n",
    "    sv1.check(sv1.diem_toan, sv1.diem_van)\n",
    "    list.append(sv1)\n",
    "    check = input('Ban có muốn nhập dữ liệu tiếp không Y/N: ')\n",
    "\n",
    "loc_sv = input('ban muốn lọc sinh viên loại gì?gioi/trung  binh/kem ')\n",
    "j = 0\n",
    "for i in list:\n",
    "    if i.level == loc_sv:\n",
    "        i.show()\n",
    "        j +=1\n",
    "print(f'Tổng số SV level {loc_sv} là: {j}')"
   ]
  }
 ],
 "metadata": {
  "kernelspec": {
   "display_name": "Python 3 (ipykernel)",
   "language": "python",
   "name": "python3"
  },
  "language_info": {
   "codemirror_mode": {
    "name": "ipython",
    "version": 3
   },
   "file_extension": ".py",
   "mimetype": "text/x-python",
   "name": "python",
   "nbconvert_exporter": "python",
   "pygments_lexer": "ipython3",
   "version": "3.10.7"
  }
 },
 "nbformat": 4,
 "nbformat_minor": 5
}
