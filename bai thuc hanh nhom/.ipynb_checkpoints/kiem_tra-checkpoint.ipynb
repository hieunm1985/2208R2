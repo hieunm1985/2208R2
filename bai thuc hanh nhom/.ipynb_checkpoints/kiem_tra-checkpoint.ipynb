{
 "cells": [
  {
   "cell_type": "code",
   "execution_count": 19,
   "id": "aab276e2",
   "metadata": {},
   "outputs": [
    {
     "name": "stdout",
     "output_type": "stream",
     "text": [
      "Nhap id: 1\n",
      "Nhap ten: hieu\n",
      "Nhap tuoi: 20\n",
      "Nhap dia chi: hung yen\n",
      "Nhap diem toan: 8\n",
      "Nhap diem van: 10\n",
      "Thông báo: hieu thuộc level: Gioi\n"
     ]
    }
   ],
   "source": [
    "# tạo chức năng kiểm tra trình độ học sinh:\n",
    "id = input('Nhap id: ')\n",
    "ten = input('Nhap ten: ')\n",
    "tuoi = input('Nhap tuoi: ')\n",
    "dia_chi = input('Nhap dia chi: ')\n",
    "diem_toan = int(input('Nhap diem toan: '))\n",
    "diem_van = int(input('Nhap diem van: '))\n",
    "\n",
    "class kiem_tra:\n",
    "    id = ''\n",
    "    ten = ''\n",
    "    tuoi = ''\n",
    "    dia_chi = ''\n",
    "    diem_toan = ''\n",
    "    dien_van = ''\n",
    "    level = ''\n",
    "    def __init__(self, id, ten, tuoi, dia_chi, diem_toan, diem_van):\n",
    "        self.id = id\n",
    "        self.ten = ten\n",
    "        self.tuoi = tuoi\n",
    "        self.dia_chi = dia_chi\n",
    "        self.diem_toan = diem_toan\n",
    "        self.diem_van = diem_van\n",
    "    def check(self, diem_toan, diem_van):\n",
    "        if diem_toan >= 8 and diem_van >= 8:\n",
    "            self.level = 'Gioi'\n",
    "        elif diem_toan <= 5 and diem_van <= 5:\n",
    "            self.level = 'kem'\n",
    "        else:\n",
    "            self.level = 'trung binh'\n",
    "    def show(self):\n",
    "        self.check(self.diem_toan, self.diem_van)\n",
    "        print(f'Thông báo {self.ten} thuộc level: {self.level}')\n",
    "\n",
    "sv1 = kiem_tra(id, ten, tuoi, dia_chi, diem_toan, diem_van)        \n",
    "sv1.show()\n"
   ]
  }
 ],
 "metadata": {
  "kernelspec": {
   "display_name": "Python 3 (ipykernel)",
   "language": "python",
   "name": "python3"
  },
  "language_info": {
   "codemirror_mode": {
    "name": "ipython",
    "version": 3
   },
   "file_extension": ".py",
   "mimetype": "text/x-python",
   "name": "python",
   "nbconvert_exporter": "python",
   "pygments_lexer": "ipython3",
   "version": "3.10.7"
  }
 },
 "nbformat": 4,
 "nbformat_minor": 5
}
