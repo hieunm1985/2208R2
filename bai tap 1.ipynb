{
 "cells": [
  {
   "cell_type": "code",
   "execution_count": 2,
   "id": "84b108a6",
   "metadata": {},
   "outputs": [
    {
     "name": "stdout",
     "output_type": "stream",
     "text": [
      "ho va ten: Nguyễn Mạnh Hiếu\n",
      "ngay sinh: 1985\n",
      "dia chi: hung yen\n",
      "muc dich: la 1 data scientist\n"
     ]
    },
    {
     "ename": "NameError",
     "evalue": "name 'Print' is not defined",
     "output_type": "error",
     "traceback": [
      "\u001b[1;31m---------------------------------------------------------------------------\u001b[0m",
      "\u001b[1;31mNameError\u001b[0m                                 Traceback (most recent call last)",
      "Cell \u001b[1;32mIn [2], line 5\u001b[0m\n\u001b[0;32m      3\u001b[0m dia_chi \u001b[38;5;241m=\u001b[39m \u001b[38;5;28minput\u001b[39m(\u001b[38;5;124m\"\u001b[39m\u001b[38;5;124mdia chi: \u001b[39m\u001b[38;5;124m\"\u001b[39m)\n\u001b[0;32m      4\u001b[0m muc_dich \u001b[38;5;241m=\u001b[39m \u001b[38;5;28minput\u001b[39m(\u001b[38;5;124m\"\u001b[39m\u001b[38;5;124mmuc dich: \u001b[39m\u001b[38;5;124m\"\u001b[39m)\n\u001b[1;32m----> 5\u001b[0m \u001b[43mPrint\u001b[49m({ho_ten})\n\u001b[0;32m      6\u001b[0m Print({ngay_sinh})\n\u001b[0;32m      7\u001b[0m Print({dia_chi})\n",
      "\u001b[1;31mNameError\u001b[0m: name 'Print' is not defined"
     ]
    }
   ],
   "source": [
    "ho_ten = input(\"ho va ten: \")\n",
    "ngay_sinh = input(\"ngay sinh: \")\n",
    "dia_chi = input(\"dia chi: \")\n",
    "muc_dich = input(\"muc dich: \")\n"
   ]
  },
  {
   "cell_type": "code",
   "execution_count": 4,
   "id": "403854af",
   "metadata": {},
   "outputs": [
    {
     "name": "stdout",
     "output_type": "stream",
     "text": [
      "Nguyễn Mạnh Hiếu\n",
      "1985\n",
      "hung yen\n",
      "la 1 data scientist\n"
     ]
    }
   ],
   "source": [
    "print(ho_ten)\n",
    "print(ngay_sinh)\n",
    "print(dia_chi)\n",
    "print(muc_dich)"
   ]
  }
 ],
 "metadata": {
  "kernelspec": {
   "display_name": "Python 3 (ipykernel)",
   "language": "python",
   "name": "python3"
  },
  "language_info": {
   "codemirror_mode": {
    "name": "ipython",
    "version": 3
   },
   "file_extension": ".py",
   "mimetype": "text/x-python",
   "name": "python",
   "nbconvert_exporter": "python",
   "pygments_lexer": "ipython3",
   "version": "3.10.7"
  }
 },
 "nbformat": 4,
 "nbformat_minor": 5
}
