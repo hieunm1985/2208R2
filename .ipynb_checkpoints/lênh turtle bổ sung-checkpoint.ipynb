{
 "cells": [
  {
   "cell_type": "code",
   "execution_count": 1,
   "id": "65d304be",
   "metadata": {},
   "outputs": [],
   "source": [
    "import turtle\n",
    "pen = turtle.Turtle()"
   ]
  },
  {
   "cell_type": "code",
   "execution_count": null,
   "id": "8526fd8f",
   "metadata": {},
   "outputs": [],
   "source": [
    "import turtle\n",
    "pen = turtle.Turtle()\n",
    "for i in range(4):\n",
    "    pen.forward(100)\n",
    "    pen.right(90)\n",
    "turtle.done()"
   ]
  },
  {
   "cell_type": "code",
   "execution_count": 1,
   "id": "09e381eb",
   "metadata": {},
   "outputs": [],
   "source": [
    "import turtle\n",
    "pen = turtle.Turtle()\n",
    "for i in range(5):\n",
    "    pen.forward(100)\n",
    "    pen.right(144)\n",
    "turtle.done()"
   ]
  },
  {
   "cell_type": "code",
   "execution_count": 2,
   "id": "652768df",
   "metadata": {},
   "outputs": [],
   "source": [
    "import turtle\n",
    "pen = turtle.Turtle()\n",
    "pen.fd(100)\n",
    "pen.rt(90)\n",
    "pen.bk(200)"
   ]
  },
  {
   "cell_type": "code",
   "execution_count": 5,
   "id": "91d261c1",
   "metadata": {},
   "outputs": [],
   "source": [
    "pen.lt(90)\n",
    "pen.fd(100)"
   ]
  },
  {
   "cell_type": "code",
   "execution_count": 3,
   "id": "52ddd0a9",
   "metadata": {},
   "outputs": [],
   "source": [
    "pen.goto(100,100)\n",
    "pen.goto(0,0)\n",
    "pen.home()"
   ]
  },
  {
   "cell_type": "code",
   "execution_count": 5,
   "id": "f635b39d",
   "metadata": {},
   "outputs": [],
   "source": [
    "#ve hinh tròn bán kính 100 pixels\n",
    "pen.circle(100)\n",
    "# đi đến tọa độ (-100,-100)\n",
    "pen.goto(-100,-100)\n",
    "#vẽ hình tròn được điền đầy bán kính 10 pixels\n",
    "pen.dot(10)"
   ]
  },
  {
   "cell_type": "code",
   "execution_count": 10,
   "id": "97b31978",
   "metadata": {},
   "outputs": [],
   "source": [
    "pen.up()\n",
    "pen.goto(50,50)\n",
    "pen.down()\n",
    "pen.dot(30)"
   ]
  },
  {
   "cell_type": "code",
   "execution_count": 9,
   "id": "5caba550",
   "metadata": {},
   "outputs": [],
   "source": [
    "# đổi màu nền turtle\n",
    "turtle.bgcolor(\"white\")"
   ]
  },
  {
   "cell_type": "code",
   "execution_count": 4,
   "id": "91d98fd6",
   "metadata": {},
   "outputs": [],
   "source": [
    "pen.pensize(100)"
   ]
  },
  {
   "cell_type": "code",
   "execution_count": 6,
   "id": "16582f68",
   "metadata": {},
   "outputs": [],
   "source": [
    "pen.pencolor(\"red\")\n",
    "pen.fd(100)"
   ]
  },
  {
   "cell_type": "code",
   "execution_count": 7,
   "id": "da80bcf8",
   "metadata": {},
   "outputs": [],
   "source": [
    "pen.pensize(10)\n",
    "pen.fillcolor(\"red\")\n",
    "pen.pencolor(\"blue\")\n",
    "#lệnh điền màu vào bên trong hình.\n",
    "pen.begin_fill()\n",
    "pen.circle(50)\n",
    "pen.end_fill()\n"
   ]
  },
  {
   "cell_type": "code",
   "execution_count": 8,
   "id": "216cf643",
   "metadata": {},
   "outputs": [],
   "source": [
    "pen.up()\n",
    "pen.goto(-100, -100)\n",
    "pen.down()\n",
    "pen.begin_fill()\n",
    "for i in range(4):\n",
    "    pen.fd(100)\n",
    "    pen.rt(90)\n",
    "pen.end_fill()"
   ]
  }
 ],
 "metadata": {
  "kernelspec": {
   "display_name": "Python 3 (ipykernel)",
   "language": "python",
   "name": "python3"
  },
  "language_info": {
   "codemirror_mode": {
    "name": "ipython",
    "version": 3
   },
   "file_extension": ".py",
   "mimetype": "text/x-python",
   "name": "python",
   "nbconvert_exporter": "python",
   "pygments_lexer": "ipython3",
   "version": "3.10.7"
  }
 },
 "nbformat": 4,
 "nbformat_minor": 5
}
