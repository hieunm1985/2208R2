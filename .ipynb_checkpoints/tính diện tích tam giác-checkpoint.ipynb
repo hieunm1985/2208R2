{
 "cells": [
  {
   "cell_type": "code",
   "execution_count": 2,
   "id": "50ae0e85",
   "metadata": {},
   "outputs": [
    {
     "name": "stdout",
     "output_type": "stream",
     "text": [
      "chieu dai canh 1: 10\n",
      "chieu dai canh 2: 15\n",
      "chieu dai canh 3: 14\n",
      "dien tich hinh tam giac la:  67.71216655815999\n"
     ]
    }
   ],
   "source": [
    "import math\n",
    "a = float(input(\"chieu dai canh 1: \"))\n",
    "b = float(input(\"chieu dai canh 2: \"))\n",
    "c = float(input(\"chieu dai canh 3: \"))\n",
    "s = (a+b+c)/2\n",
    "dien_tich = math.sqrt(s*(s-a)*(s-b)*(s-c))\n",
    "print(\"dien tich hinh tam giac la: \", dien_tich)"
   ]
  }
 ],
 "metadata": {
  "kernelspec": {
   "display_name": "Python 3 (ipykernel)",
   "language": "python",
   "name": "python3"
  },
  "language_info": {
   "codemirror_mode": {
    "name": "ipython",
    "version": 3
   },
   "file_extension": ".py",
   "mimetype": "text/x-python",
   "name": "python",
   "nbconvert_exporter": "python",
   "pygments_lexer": "ipython3",
   "version": "3.10.7"
  }
 },
 "nbformat": 4,
 "nbformat_minor": 5
}
