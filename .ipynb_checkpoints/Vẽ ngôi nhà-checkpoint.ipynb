{
 "cells": [
  {
   "cell_type": "code",
   "execution_count": 2,
   "id": "ef6e6085",
   "metadata": {},
   "outputs": [],
   "source": [
    "import turtle\n",
    "pen = turtle.Turtle()"
   ]
  },
  {
   "cell_type": "code",
   "execution_count": 3,
   "id": "3afa6b80",
   "metadata": {},
   "outputs": [],
   "source": [
    "\n",
    "pen.speed(200)\n",
    "##vẽ mặt trời\n",
    "pen.up()\n",
    "pen.goto(100,160)\n",
    "pen.down()\n",
    "pen.fillcolor(\"red\")\n",
    "pen.begin_fill()\n",
    "pen.circle(40)\n",
    "pen.end_fill()\n",
    "## vẽ tia nắng thứ nhất\n",
    "pen.pencolor(\"blue\")\n",
    "pen.right(90)\n",
    "pen.forward(40)\n",
    "## vẽ tia nắng thứ hai\n",
    "pen.up()\n",
    "pen.goto(100,240)\n",
    "pen.down()\n",
    "pen.backward(40)\n",
    "## vẽ tia nắng thứ ba\n",
    "pen.up()\n",
    "pen.goto(60,200)\n",
    "pen.down()\n",
    "pen.left(90)\n",
    "pen.backward(40)\n",
    "## vẽ tia nắng thứ tư\n",
    "pen.up()\n",
    "pen.goto(140,200)\n",
    "pen.down()\n",
    "pen.forward(40)\n",
    "\n",
    "##vẽ thân cây:\n",
    "pen.up()\n",
    "pen.goto(140,-200)\n",
    "pen.down()\n",
    "pen.pencolor(\"green\")\n",
    "pen.forward(30)\n",
    "pen.left(90)\n",
    "pen.forward(50)\n",
    "pen.left(90)\n",
    "pen.forward(30)\n",
    "pen.left(90)\n",
    "pen.forward(50)\n",
    "## vẽ tán cây thứ 1\n",
    "pen.up()\n",
    "pen.goto(130,-150)\n",
    "pen.down()\n",
    "pen.left(90)\n",
    "pen.fillcolor(\"green\")\n",
    "pen.begin_fill()\n",
    "pen.forward(50)\n",
    "pen.left(150)\n",
    "pen.forward(47.2)\n",
    "pen.left(120)\n",
    "pen.forward(47.2)\n",
    "pen.end_fill()"
   ]
  },
  {
   "cell_type": "code",
   "execution_count": 3,
   "id": "15e17476",
   "metadata": {},
   "outputs": [],
   "source": [
    "\n"
   ]
  },
  {
   "cell_type": "code",
   "execution_count": 3,
   "id": "ff4f44c8",
   "metadata": {},
   "outputs": [],
   "source": [
    "pen.speed(1)\n",
    "pen.up()\n",
    "pen.goto(0,0)\n",
    "pen.down()\n",
    "pen.rt(90)\n",
    "pen.circle(50,steps = 3)"
   ]
  }
 ],
 "metadata": {
  "kernelspec": {
   "display_name": "Python 3 (ipykernel)",
   "language": "python",
   "name": "python3"
  },
  "language_info": {
   "codemirror_mode": {
    "name": "ipython",
    "version": 3
   },
   "file_extension": ".py",
   "mimetype": "text/x-python",
   "name": "python",
   "nbconvert_exporter": "python",
   "pygments_lexer": "ipython3",
   "version": "3.10.7"
  }
 },
 "nbformat": 4,
 "nbformat_minor": 5
}
