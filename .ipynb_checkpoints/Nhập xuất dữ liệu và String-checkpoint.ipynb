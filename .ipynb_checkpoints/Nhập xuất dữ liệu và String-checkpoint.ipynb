{
 "cells": [
  {
   "cell_type": "markdown",
   "id": "7ac14915",
   "metadata": {},
   "source": [
    "# Nhập xuất dữ liệu và String\n",
    "## Cách nhập xuất dữ liệu"
   ]
  },
  {
   "cell_type": "markdown",
   "id": "0f202ae8",
   "metadata": {},
   "source": [
    "### Xuất dữ liệu ra màn hình\n",
    "Để in các nội dung mà chúng ta mong muốn ra màn hình, ta sử dụng lệnh print()"
   ]
  },
  {
   "cell_type": "code",
   "execution_count": 1,
   "id": "a6d3f260",
   "metadata": {},
   "outputs": [
    {
     "name": "stdout",
     "output_type": "stream",
     "text": [
      "python is very easy\n"
     ]
    }
   ],
   "source": [
    "# Ví dụ: In ra nội dung \"python is very easy\"\n",
    "print(\"python is very easy\")"
   ]
  },
  {
   "cell_type": "markdown",
   "id": "7733925a",
   "metadata": {},
   "source": [
    "### Các cách custom với lệnh print"
   ]
  },
  {
   "cell_type": "markdown",
   "id": "292ab570",
   "metadata": {},
   "source": [
    "Để in một nội dung kèm theo giá trị của biến, ta có các cách sau:"
   ]
  },
  {
   "cell_type": "code",
   "execution_count": 7,
   "id": "20ff912c",
   "metadata": {},
   "outputs": [],
   "source": [
    "food_1 = \"choco\"\n",
    "food_2 = \"sandwich\""
   ]
  },
  {
   "cell_type": "code",
   "execution_count": 2,
   "id": "6407a448",
   "metadata": {},
   "outputs": [
    {
     "name": "stdout",
     "output_type": "stream",
     "text": [
      "i love chocolate and i hate sandwich\n"
     ]
    }
   ],
   "source": [
    "# In trực tiếp\n",
    "print(\"i love chocolate and i hate sandwich\")"
   ]
  },
  {
   "cell_type": "code",
   "execution_count": 9,
   "id": "27d098b8",
   "metadata": {},
   "outputs": [
    {
     "name": "stdout",
     "output_type": "stream",
     "text": [
      "i love choco and i hate sandwich\n"
     ]
    }
   ],
   "source": [
    "# In bằng cách ghép các nội dung với nhau\n",
    "print(\"i love\", food_1, \"and i hate\", food_2 )"
   ]
  },
  {
   "cell_type": "code",
   "execution_count": 11,
   "id": "717666f2",
   "metadata": {},
   "outputs": [
    {
     "name": "stdout",
     "output_type": "stream",
     "text": [
      "i love choco and i hate sandwich\n"
     ]
    }
   ],
   "source": [
    "# Sử dụng String Format\n",
    "print(f'i love {food_1} and i hate {food_2}')"
   ]
  },
  {
   "cell_type": "code",
   "execution_count": 13,
   "id": "c7276e05",
   "metadata": {},
   "outputs": [
    {
     "name": "stdout",
     "output_type": "stream",
     "text": [
      "i love chocoand i hatesandwich\n"
     ]
    }
   ],
   "source": [
    "# Sử dụng nhiều lệnh print\n",
    "print(\"i love \", end='')\n",
    "print(food_1, end='')\n",
    "print(\"and i hate\", end='')\n",
    "print(food_2)"
   ]
  },
  {
   "cell_type": "markdown",
   "id": "e10788fb",
   "metadata": {},
   "source": [
    "### Nhập dữ liệu\n",
    "Để nhập dữ liệu vào chương trình python, chúng ta sử dụng hàm input()"
   ]
  },
  {
   "cell_type": "code",
   "execution_count": 15,
   "id": "b8b8afd3",
   "metadata": {},
   "outputs": [
    {
     "name": "stdout",
     "output_type": "stream",
     "text": [
      "nhap ten: hieu\n",
      "hieu\n",
      "<class 'str'>\n"
     ]
    }
   ],
   "source": [
    "name = input(\"nhap ten: \")\n",
    "print(name)\n",
    "print(type(name))"
   ]
  },
  {
   "cell_type": "code",
   "execution_count": 17,
   "id": "764dde06",
   "metadata": {},
   "outputs": [
    {
     "name": "stdout",
     "output_type": "stream",
     "text": [
      "nhap diem: 4\n",
      "<class 'int'>\n"
     ]
    }
   ],
   "source": [
    "score = int(input(\"nhap diem: \"))\n",
    "print(type(score))"
   ]
  },
  {
   "cell_type": "markdown",
   "id": "337f9c15",
   "metadata": {},
   "source": [
    "#### Thực hành: Viết chương trình nhập vào chiều dài và chiều rộng của hình chữ nhật, sau đó in ra chu vi và diện tích của hình chữ nhật đó"
   ]
  },
  {
   "cell_type": "code",
   "execution_count": 19,
   "id": "add68103",
   "metadata": {},
   "outputs": [
    {
     "name": "stdout",
     "output_type": "stream",
     "text": [
      "nhap chieu dai: 5\n",
      "nhap chieu rong: 6\n"
     ]
    }
   ],
   "source": [
    "# Nhập các kích thước của hình chữ nhật\n",
    "a = int(input(\"nhap chieu dai: \"))\n",
    "b = int(input(\"nhap chieu rong: \"))"
   ]
  },
  {
   "cell_type": "code",
   "execution_count": 20,
   "id": "7a1cd73e",
   "metadata": {},
   "outputs": [],
   "source": [
    "# Tính toán chu vi, diện tích\n",
    "cv = (a + b)*2\n",
    "S = a*b"
   ]
  },
  {
   "cell_type": "code",
   "execution_count": 21,
   "id": "d0adf735",
   "metadata": {},
   "outputs": [
    {
     "name": "stdout",
     "output_type": "stream",
     "text": [
      "chu vi là: 22\n",
      "dien tich là: 30\n"
     ]
    }
   ],
   "source": [
    "# In kết quả ra màn hình bằng 3 cách\n",
    "print(\"chu vi là:\", cv)\n",
    "print(\"dien tich là:\", S)"
   ]
  },
  {
   "cell_type": "code",
   "execution_count": 26,
   "id": "9a659890",
   "metadata": {},
   "outputs": [
    {
     "name": "stdout",
     "output_type": "stream",
     "text": [
      "chu vi là: 22, dien tich là: 30\n"
     ]
    }
   ],
   "source": [
    "print(f'chu vi là: {cv}, dien tich là: {S}')"
   ]
  },
  {
   "cell_type": "code",
   "execution_count": 30,
   "id": "5acc15a4",
   "metadata": {},
   "outputs": [
    {
     "name": "stdout",
     "output_type": "stream",
     "text": [
      "chu vi là: 22, dien tich la: 30\n"
     ]
    }
   ],
   "source": [
    "print(\"chu vi là:\", cv, end='')\n",
    "print(\", dien tich la:\", S)"
   ]
  },
  {
   "cell_type": "markdown",
   "id": "fb54cb77",
   "metadata": {},
   "source": [
    "#### Thực hành: Viết chương trình nhập vào số đo cạnh và mã màu của tam giác đều, sau đó sử dụng turtle để vẽ ra hình tam giác có số đo và màu tương ứng"
   ]
  },
  {
   "cell_type": "code",
   "execution_count": 32,
   "id": "7583b308",
   "metadata": {},
   "outputs": [
    {
     "name": "stdout",
     "output_type": "stream",
     "text": [
      "do dai canh: 100\n",
      "nhap mau: red\n"
     ]
    },
    {
     "data": {
      "text/plain": [
       "<function turtle.mainloop()>"
      ]
     },
     "execution_count": 32,
     "metadata": {},
     "output_type": "execute_result"
    }
   ],
   "source": [
    "canh = int(input(\"do dai canh: \"))\n",
    "mau = input(\"nhap mau: \")\n",
    "import turtle\n",
    "pen = turtle.Turtle()\n",
    "pen.fillcolor(mau)\n",
    "\n",
    "pen.begin_fill()\n",
    "pen.circle(canh, )\n",
    "pen.end_fill()\n",
    "\n",
    "turtle.done"
   ]
  },
  {
   "cell_type": "markdown",
   "id": "fa7cb208",
   "metadata": {},
   "source": [
    "## Cú pháp import"
   ]
  },
  {
   "cell_type": "markdown",
   "id": "ab2a2ea5",
   "metadata": {},
   "source": [
    "Để sử dụng một module từ bên ngoài, chúng ta sẽ sử dụng từ khóa import. Sau đây là ví dụ về một số cách import phổ biến."
   ]
  },
  {
   "cell_type": "markdown",
   "id": "bd6de377",
   "metadata": {},
   "source": [
    "### Random một giá trị ngẫu nhiên"
   ]
  },
  {
   "cell_type": "code",
   "execution_count": null,
   "id": "ce5547f5",
   "metadata": {},
   "outputs": [],
   "source": []
  },
  {
   "cell_type": "markdown",
   "id": "dfa93dc0",
   "metadata": {},
   "source": [
    "### Thực hiện các phép toán số học"
   ]
  },
  {
   "cell_type": "code",
   "execution_count": 8,
   "id": "4f06f722",
   "metadata": {},
   "outputs": [],
   "source": [
    "# import toàn bộ module"
   ]
  },
  {
   "cell_type": "code",
   "execution_count": null,
   "id": "6b9e471b",
   "metadata": {},
   "outputs": [],
   "source": [
    "# import một phần trong module"
   ]
  },
  {
   "cell_type": "markdown",
   "id": "391969e7",
   "metadata": {},
   "source": [
    "## Xử lý String trong python"
   ]
  },
  {
   "cell_type": "markdown",
   "id": "ab461669",
   "metadata": {},
   "source": [
    "### String là gì?\n",
    "String là một chuỗi gồm các ký tự Unicode"
   ]
  },
  {
   "cell_type": "markdown",
   "id": "94a27b90",
   "metadata": {},
   "source": [
    "### Khởi tạo một string"
   ]
  },
  {
   "cell_type": "code",
   "execution_count": 35,
   "id": "b14f4fcc",
   "metadata": {},
   "outputs": [
    {
     "name": "stdout",
     "output_type": "stream",
     "text": [
      "ten toi la hieu\n"
     ]
    }
   ],
   "source": [
    "# one-line string\n",
    "name = \"ten toi la hieu\"\n",
    "print(name)"
   ]
  },
  {
   "cell_type": "code",
   "execution_count": 36,
   "id": "9cc506a7",
   "metadata": {},
   "outputs": [
    {
     "name": "stdout",
     "output_type": "stream",
     "text": [
      "in dong 1\n",
      "-in dong 2\n",
      "-in dong 3\n",
      "\n"
     ]
    }
   ],
   "source": [
    "# multi-line string\n",
    "in_nhieu_dong = \"\"\"in dong 1\n",
    "-in dong 2\n",
    "-in dong 3\n",
    "\"\"\"\n",
    "print(in_nhieu_dong)"
   ]
  },
  {
   "cell_type": "markdown",
   "id": "8f4270fd",
   "metadata": {},
   "source": [
    "### Các thao tác phổ biến với string"
   ]
  },
  {
   "cell_type": "code",
   "execution_count": 38,
   "id": "c825f890",
   "metadata": {},
   "outputs": [
    {
     "data": {
      "text/plain": [
       "15"
      ]
     },
     "execution_count": 38,
     "metadata": {},
     "output_type": "execute_result"
    }
   ],
   "source": [
    "# Kiểm tra độ dài string\n",
    "len(\"hieu\")\n",
    "len(name)"
   ]
  },
  {
   "cell_type": "code",
   "execution_count": 41,
   "id": "6de96621",
   "metadata": {},
   "outputs": [
    {
     "name": "stdout",
     "output_type": "stream",
     "text": [
      "e\n",
      "u\n"
     ]
    }
   ],
   "source": [
    "# Truy xuất ký tự bằng cơ chế indexing và reverse indexing\n",
    "name = \"hieu\"\n",
    "#máy sẽ đánh thứ tự xuôi từ 0 cho chữ Hiếu\n",
    "#in xuôi\n",
    "print(name[2])\n",
    "# in ngược\n",
    "# máy sẽ đánh thứ tự ngược từ -1 cho chữ Hiếu\n",
    "print(name[-1])"
   ]
  },
  {
   "cell_type": "markdown",
   "id": "a4f949d9",
   "metadata": {},
   "source": [
    "#### Thực hành: Viết chương trình nhập vào một chuỗi bất kỳ, sau đó in ra ký tự đầu tiên và ký tự cuối cùng của chuỗi đó."
   ]
  },
  {
   "cell_type": "code",
   "execution_count": 42,
   "id": "14833f18",
   "metadata": {},
   "outputs": [
    {
     "name": "stdout",
     "output_type": "stream",
     "text": [
      "nhap chuoi ky tu: hieu\n",
      "h\n",
      "u\n"
     ]
    }
   ],
   "source": [
    "ky_tu = input(\"nhap chuoi ky tu: \")\n",
    "print(ky_tu[0])\n",
    "print(ky_tu[-1])"
   ]
  },
  {
   "cell_type": "code",
   "execution_count": 7,
   "id": "9aad2f16",
   "metadata": {},
   "outputs": [
    {
     "name": "stdout",
     "output_type": "stream",
     "text": [
      "hieu\n",
      "he,pt\n",
      "huph\n",
      "nohtyp ,ueih\n"
     ]
    }
   ],
   "source": [
    "# Cắt string theo index\n",
    "name = \"hieu, python\"\n",
    "#từ ký tự đầu đến ký tự phía sau ký tự cuối muốn cắt\n",
    "print(name[0:4])\n",
    "# thêm bước nhảy vào cuối, bước nhảy để âm thì chạy từ phải qua trái, bước nhảy dương thì chạy từ trái qua phải.\n",
    "print(name[0:10:2])\n",
    "print(name[::3])\n",
    "print(name[-1:-(len(name)+1):-1]) # đảo ngược chuỗi."
   ]
  },
  {
   "cell_type": "code",
   "execution_count": 10,
   "id": "6ec63f90",
   "metadata": {},
   "outputs": [
    {
     "name": "stdout",
     "output_type": "stream",
     "text": [
      "helloworld\n"
     ]
    }
   ],
   "source": [
    "# Ghép chuỗi và lặp chuỗi\n",
    "a = \"hello\"\n",
    "b = \"world\"\n",
    "print(a + b)"
   ]
  },
  {
   "cell_type": "markdown",
   "id": "84c2dcb9",
   "metadata": {},
   "source": [
    "#### Thực hành: Xử lý và in ra các thông tin tương ứng trong chuỗi"
   ]
  },
  {
   "cell_type": "code",
   "execution_count": 15,
   "id": "cd71f135",
   "metadata": {},
   "outputs": [
    {
     "name": "stdout",
     "output_type": "stream",
     "text": [
      "long\n",
      "python\n",
      "2-4-6\n",
      "string\n"
     ]
    }
   ],
   "source": [
    "name = \"long,python,2-4-6,string\"\n",
    "print(name[0:4])\n",
    "print(name[5:11])\n",
    "print(name[12:17])\n",
    "print(name[18:24])"
   ]
  },
  {
   "cell_type": "markdown",
   "id": "7cbd965f",
   "metadata": {},
   "source": [
    "### Các hàm thông dụng khi xử lý string"
   ]
  },
  {
   "cell_type": "code",
   "execution_count": 16,
   "id": "eb5932a1",
   "metadata": {},
   "outputs": [
    {
     "data": {
      "text/plain": [
       "16"
      ]
     },
     "execution_count": 16,
     "metadata": {},
     "output_type": "execute_result"
    }
   ],
   "source": [
    "# len\n",
    "name = \"nguyen manh hieu\"\n",
    "len(name)"
   ]
  },
  {
   "cell_type": "code",
   "execution_count": 17,
   "id": "6bef6d33",
   "metadata": {},
   "outputs": [
    {
     "name": "stdout",
     "output_type": "stream",
     "text": [
      "3\n"
     ]
    }
   ],
   "source": [
    "# count: cho biết bao nhiêu tập con trong 1 tập mẹ.\n",
    "print(name.count(\"n\")) #đếm ký tự n trong biến name"
   ]
  },
  {
   "cell_type": "code",
   "execution_count": 23,
   "id": "1582bbd8",
   "metadata": {},
   "outputs": [
    {
     "name": "stdout",
     "output_type": "stream",
     "text": [
      "NGUYEN MANH HIEU\n",
      "nguyen manh hieu\n",
      "Nguyen manh hieu\n"
     ]
    }
   ],
   "source": [
    "# upper, lower\n",
    "print(name.upper()) #viết hoa chuỗi.\n",
    "print(name.lower()) #viết thường.\n",
    "print(name.capitalize()) #viết hoa chữ đầu"
   ]
  },
  {
   "cell_type": "code",
   "execution_count": 25,
   "id": "0d08f708",
   "metadata": {},
   "outputs": [
    {
     "name": "stdout",
     "output_type": "stream",
     "text": [
      "hieu   nguyen    manh    \n",
      "   hieu   nguyen    manh\n",
      "hieu   nguyen    manh\n"
     ]
    }
   ],
   "source": [
    "# lstrip, rstrip, strip\n",
    "name = \"   hieu   nguyen    manh    \" # biến có ký tự thừa.\n",
    "print(name.lstrip())  #cắt ký tự thừa bên trái.\n",
    "print(name.rstrip())  #cắt ký tự thừa bên phải.\n",
    "print(name.strip())  #cắt ký tự thừa 2 đầu."
   ]
  },
  {
   "cell_type": "code",
   "execution_count": 26,
   "id": "62180d52",
   "metadata": {},
   "outputs": [
    {
     "name": "stdout",
     "output_type": "stream",
     "text": [
      "['long', 'python', '2-4-6', 'string']\n"
     ]
    }
   ],
   "source": [
    "# split\n",
    "name = \"long,python,2-4-6,string\"\n",
    "print(name.split(\",\")) #cắt chuỗi bằng ký tự nhận diện"
   ]
  },
  {
   "cell_type": "markdown",
   "id": "032ba1fc",
   "metadata": {},
   "source": []
  }
 ],
 "metadata": {
  "kernelspec": {
   "display_name": "Python 3 (ipykernel)",
   "language": "python",
   "name": "python3"
  },
  "language_info": {
   "codemirror_mode": {
    "name": "ipython",
    "version": 3
   },
   "file_extension": ".py",
   "mimetype": "text/x-python",
   "name": "python",
   "nbconvert_exporter": "python",
   "pygments_lexer": "ipython3",
   "version": "3.10.7"
  }
 },
 "nbformat": 4,
 "nbformat_minor": 5
}
