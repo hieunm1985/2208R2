{
 "cells": [
  {
   "cell_type": "code",
   "execution_count": null,
   "id": "0f4291d7",
   "metadata": {},
   "outputs": [],
   "source": [
    "import turtle\n",
    "pen = turtle.Turtle()\n",
    "pen.fillcolor(\"blue\")\n",
    "## ve mặt\n",
    "pen.up()\n",
    "pen.goto(0,-200)\n",
    "pen.down()\n",
    "pen.circle(200)\n",
    "## vẽ mắt trái\n",
    "pen.up()\n",
    "pen.goto(-100,100)\n",
    "pen.down()\n",
    "pen.begin_fill()\n",
    "pen.circle(20)\n",
    "pen.end_fill()\n",
    "## vẽ mắt phải\n",
    "pen.up()\n",
    "pen.goto(100,100)\n",
    "pen.down()\n",
    "pen.begin_fill()\n",
    "pen.circle(20)\n",
    "pen.end_fill()\n",
    "## vẽ mũi\n",
    "pen.up()\n",
    "pen.goto(0,0)\n",
    "pen.down()\n",
    "pen.begin_fill()\n",
    "pen.circle(20,steps = 3)\n",
    "pen.end_fill()\n",
    "## vẽ mồm\n",
    "pen.up()\n",
    "pen.goto(-70,-70)\n",
    "pen.down()\n",
    "pen.rt(90)\n",
    "pen.circle(70,180)\n",
    "\n",
    "turtle.done()"
   ]
  }
 ],
 "metadata": {
  "kernelspec": {
   "display_name": "Python 3 (ipykernel)",
   "language": "python",
   "name": "python3"
  },
  "language_info": {
   "codemirror_mode": {
    "name": "ipython",
    "version": 3
   },
   "file_extension": ".py",
   "mimetype": "text/x-python",
   "name": "python",
   "nbconvert_exporter": "python",
   "pygments_lexer": "ipython3",
   "version": "3.10.7"
  }
 },
 "nbformat": 4,
 "nbformat_minor": 5
}
