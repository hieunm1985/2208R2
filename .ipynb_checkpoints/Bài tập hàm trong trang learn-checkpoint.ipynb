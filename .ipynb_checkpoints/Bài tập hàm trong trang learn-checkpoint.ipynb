{
 "cells": [
  {
   "cell_type": "code",
   "execution_count": 6,
   "id": "a4c45791",
   "metadata": {},
   "outputs": [
    {
     "name": "stdout",
     "output_type": "stream",
     "text": [
      "66\n"
     ]
    }
   ],
   "source": [
    "# Hàm tính tổng trong 1 khoảng giá trị\n",
    "def sum(x,y):\n",
    "    sum = 0\n",
    "    for i in range(x,y+1):\n",
    "        sum += i\n",
    "    return sum\n",
    "print(sum(1,11))"
   ]
  },
  {
   "cell_type": "code",
   "execution_count": 20,
   "id": "270028f1",
   "metadata": {},
   "outputs": [
    {
     "name": "stdout",
     "output_type": "stream",
     "text": [
      "[2, 3, 4]\n"
     ]
    }
   ],
   "source": [
    "# Hàm xóa giá trị lớn nhất trong 1 chuỗi.\n",
    "def moveMaxvalue(list):\n",
    "    x = list[0]\n",
    "    for i in list:\n",
    "        if i >= x:\n",
    "            x = i\n",
    "    list.remove(x)\n",
    "    print(list)\n",
    "list = [10,2,3,4]\n",
    "moveMaxvalue(list)"
   ]
  },
  {
   "cell_type": "code",
   "execution_count": null,
   "id": "63dbe6f9",
   "metadata": {},
   "outputs": [],
   "source": [
    "# Hàm vẽ hình tròn bằng cách vẽ các hình vuông dịch chuyển quanh tâm của nó.\n",
    "def drawCircle(n):\n",
    "    import turtle\n",
    "    pen = turtle.Turtle()\n",
    "    pen.speed(200)\n",
    "    for j in range(n):\n",
    "        for i in range(3):\n",
    "            pen.fd(100)\n",
    "            pen.rt(90)\n",
    "        pen.fd(100)\n",
    "        pen.rt(90+360/n)\n",
    "    turtle.done()\n",
    "drawCircle(36)"
   ]
  },
  {
   "cell_type": "code",
   "execution_count": 1,
   "id": "eaca1893",
   "metadata": {},
   "outputs": [
    {
     "name": "stdout",
     "output_type": "stream",
     "text": [
      "['mit', 'tao', 'cam']\n"
     ]
    }
   ],
   "source": [
    "# Hàm thêm loại quả yêu thích vào list cho trước.\n",
    "def addQua(str, list):\n",
    "    list.append(str)\n",
    "    print(list)\n",
    "addQua('cam', ['mit', 'tao'])"
   ]
  },
  {
   "cell_type": "code",
   "execution_count": 3,
   "id": "532ae8ae",
   "metadata": {},
   "outputs": [
    {
     "name": "stdout",
     "output_type": "stream",
     "text": [
      "chuong trinh in muc chi tieu\n",
      "Bạn muốn thêm hay xóa: add\n",
      "Bạn muốn thêm mục gì: Loại chi phí\n",
      "bạn có muốn tiếp tục không y/n: y\n",
      "Bạn muốn thêm hay xóa: add\n",
      "Bạn muốn thêm mục gì: ngày nhập\n",
      "bạn có muốn tiếp tục không y/n: y\n",
      "Bạn muốn thêm hay xóa: add\n",
      "Bạn muốn thêm mục gì: Giá trị\n",
      "bạn có muốn tiếp tục không y/n: y\n",
      "Bạn muốn thêm hay xóa: xóa\n",
      "Bạn muốn xóa mục gì: Giá trị\n",
      "bạn có muốn tiếp tục không y/n: n\n",
      "['Loại chi phí', 'ngày nhập']\n"
     ]
    }
   ],
   "source": [
    "# Viết chương trình in ra các mục chi tiêu cá nhân.\n",
    "def printCost():\n",
    "    print('chuong trinh in muc chi tieu')\n",
    "    list = []\n",
    "    check = 'y'\n",
    "    while check == 'y':\n",
    "        check1 = input('Bạn muốn thêm hay xóa: ')\n",
    "        if check1 == 'add':\n",
    "            add1 = input('Bạn muốn thêm mục gì: ')\n",
    "            list.append(add1)\n",
    "        else:\n",
    "            remove1 = input('Bạn muốn xóa mục gì: ')\n",
    "            list.remove(remove1)\n",
    "        check = input('bạn có muốn tiếp tục không y/n: ')\n",
    "    print(list)\n",
    "printCost()"
   ]
  },
  {
   "cell_type": "code",
   "execution_count": 2,
   "id": "fc7f94ec",
   "metadata": {},
   "outputs": [
    {
     "name": "stdout",
     "output_type": "stream",
     "text": [
      "10\n"
     ]
    }
   ],
   "source": [
    "# Nhập vào chuỗi ký tự và hiển thị số ký tự của chuỗi.\n",
    "def countStr(str):\n",
    "    numbers = len(str)\n",
    "    print(numbers)\n",
    "countStr('nguyenhieu')"
   ]
  },
  {
   "cell_type": "code",
   "execution_count": 3,
   "id": "93ad7d41",
   "metadata": {},
   "outputs": [
    {
     "name": "stdout",
     "output_type": "stream",
     "text": [
      "1 2 4\n"
     ]
    }
   ],
   "source": [
    "# Hàm sắp xếp các số nguyên.\n",
    "def sortAcending(num1, num2, num3):\n",
    "    if num1 > num2:\n",
    "        if num2 > num3:\n",
    "            print(num3, num2, num1)\n",
    "        else:\n",
    "            print(num2, num3, num1)\n",
    "    elif num2 > num3:\n",
    "        if num3 > num1:\n",
    "            print(num1, num3, num2)\n",
    "        else:\n",
    "            print(num3, num1, num2)\n",
    "    else:\n",
    "        if num2 > num1:\n",
    "            print(num1, num2, num3)\n",
    "        else:\n",
    "            print(num2, num1, num3)\n",
    "sortAcending(2, 4, 1)"
   ]
  },
  {
   "cell_type": "code",
   "execution_count": 6,
   "id": "7afaa44c",
   "metadata": {},
   "outputs": [
    {
     "name": "stdout",
     "output_type": "stream",
     "text": [
      "giá trị nhỏ nhất là 2\n"
     ]
    }
   ],
   "source": [
    "# Tìm giá trị nhỏ nhất trong mảng số cho trước.\n",
    "def foundMin(*num):\n",
    "    # Đưa tất cả đối số vào 1 tập hợp.\n",
    "    list = [*num]\n",
    "    x = list[0]\n",
    "    for i in list:\n",
    "        if i < x:\n",
    "            x = i\n",
    "    print(f'giá trị nhỏ nhất là {x}')\n",
    "foundMin(3, 5, 2)"
   ]
  },
  {
   "cell_type": "code",
   "execution_count": null,
   "id": "c696bc38",
   "metadata": {},
   "outputs": [],
   "source": [
    "def drawCircle(r):\n",
    "    import turtle\n",
    "    pen = turtle.Turtle()\n",
    "    pen.circle(r)\n",
    "    turtle.done()\n",
    "    return 3.14 * (r ** 2)\n",
    "drawCircle(100)"
   ]
  },
  {
   "cell_type": "code",
   "execution_count": null,
   "id": "e4f755b7",
   "metadata": {},
   "outputs": [],
   "source": [
    "# Vẽ nhà:\n",
    "def drawHouse(n, canh_dai, canh_ngan, color):\n",
    "    \n",
    "    import turtle\n",
    "    pen = turtle.Turtle()\n",
    "    # Vẽ tầng 2.\n",
    "    for i1 in range(n//2):\n",
    "        pen.up()\n",
    "        pen.goto(i1*canh_ngan, 0)\n",
    "        pen.down()\n",
    "        pen.fillcolor(color)\n",
    "        pen.begin_fill()\n",
    "        # Vẽ khung nhà:\n",
    "        for i2 in range(2):\n",
    "            pen.fd(canh_ngan)\n",
    "            pen.lt(90)\n",
    "            pen.fd(canh_dai)\n",
    "            pen.lt(90)\n",
    "        pen.end_fill()\n",
    "        pen.up()\n",
    "        pen.goto(i1*canh_ngan+(canh_ngan/3), canh_dai/3)\n",
    "        pen.down()\n",
    "        pen.fillcolor('white')\n",
    "        pen.begin_fill()\n",
    "        # Vẽ cửa sổ:\n",
    "        for i3 in range(2):\n",
    "            pen.fd(canh_ngan/3)\n",
    "            pen.lt(90)\n",
    "            pen.fd(canh_dai/3)\n",
    "            pen.lt(90)\n",
    "        pen.end_fill()\n",
    "    # Vẽ tầng 1:\n",
    "    for i1 in range(n//2):\n",
    "        pen.up()\n",
    "        pen.goto(i1*canh_ngan, -canh_dai)\n",
    "        pen.down()\n",
    "        pen.fillcolor(color)\n",
    "        pen.begin_fill()\n",
    "        for i2 in range(2):\n",
    "            pen.fd(canh_ngan)\n",
    "            pen.lt(90)\n",
    "            pen.fd(canh_dai)\n",
    "            pen.lt(90)\n",
    "        pen.end_fill()\n",
    "        pen.up()\n",
    "        pen.goto(i1*canh_ngan+(canh_ngan/3), -canh_dai+(canh_dai/3))\n",
    "        pen.down()\n",
    "        pen.fillcolor('white')\n",
    "        pen.begin_fill()\n",
    "        for i3 in range(2):\n",
    "            pen.fd(canh_ngan/3)\n",
    "            pen.lt(90)\n",
    "            pen.fd(canh_dai/3)\n",
    "            pen.lt(90)\n",
    "        pen.end_fill()\n",
    "    # Vẽ cửa chính vào tầng 1:\n",
    "    pen.up()\n",
    "    pen.goto((n//2)*canh_ngan, -canh_dai)\n",
    "    pen.down()\n",
    "    pen.fillcolor(color)\n",
    "    pen.begin_fill()\n",
    "    for i2 in range(2):\n",
    "        pen.fd(canh_ngan)\n",
    "        pen.lt(90)\n",
    "        pen.fd(canh_dai)\n",
    "        pen.lt(90)\n",
    "    pen.end_fill()\n",
    "    pen.up()\n",
    "    pen.goto((n//2)*canh_ngan+(canh_ngan/3), -canh_dai)\n",
    "    pen.down()\n",
    "    pen.fillcolor('green')\n",
    "    pen.begin_fill()\n",
    "    for i3 in range(2):\n",
    "        pen.fd(canh_ngan/3)\n",
    "        pen.lt(90)\n",
    "        pen.fd(2*canh_dai/3)\n",
    "        pen.lt(90)\n",
    "    pen.end_fill()\n",
    "    turtle.done()\n",
    "drawHouse(6, 100, 50, 'red')"
   ]
  },
  {
   "cell_type": "code",
   "execution_count": 1,
   "id": "8b9cc70c",
   "metadata": {},
   "outputs": [
    {
     "name": "stdout",
     "output_type": "stream",
     "text": [
      "2.0\n"
     ]
    }
   ],
   "source": []
  }
 ],
 "metadata": {
  "kernelspec": {
   "display_name": "Python 3 (ipykernel)",
   "language": "python",
   "name": "python3"
  },
  "language_info": {
   "codemirror_mode": {
    "name": "ipython",
    "version": 3
   },
   "file_extension": ".py",
   "mimetype": "text/x-python",
   "name": "python",
   "nbconvert_exporter": "python",
   "pygments_lexer": "ipython3",
   "version": "3.10.7"
  }
 },
 "nbformat": 4,
 "nbformat_minor": 5
}
