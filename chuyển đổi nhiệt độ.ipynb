{
 "cells": [
  {
   "cell_type": "code",
   "execution_count": 1,
   "id": "c41f6879",
   "metadata": {},
   "outputs": [
    {
     "name": "stdout",
     "output_type": "stream",
     "text": [
      "nhập nhiệt độ: 10\n",
      "nhiệt độ chuyển đổi là: 50.0\n"
     ]
    }
   ],
   "source": [
    "nhiet_c = int(input(\"nhập nhiệt độ: \"))\n",
    "nhiet_f = (9*nhiet_c/5)+32\n",
    "print(f'nhiệt độ chuyển đổi là: {nhiet_f}')"
   ]
  }
 ],
 "metadata": {
  "kernelspec": {
   "display_name": "Python 3 (ipykernel)",
   "language": "python",
   "name": "python3"
  },
  "language_info": {
   "codemirror_mode": {
    "name": "ipython",
    "version": 3
   },
   "file_extension": ".py",
   "mimetype": "text/x-python",
   "name": "python",
   "nbconvert_exporter": "python",
   "pygments_lexer": "ipython3",
   "version": "3.10.7"
  }
 },
 "nbformat": 4,
 "nbformat_minor": 5
}
