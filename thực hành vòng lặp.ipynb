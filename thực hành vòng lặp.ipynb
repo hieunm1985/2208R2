{
 "cells": [
  {
   "cell_type": "markdown",
   "id": "75292598",
   "metadata": {},
   "source": [
    "## cấu trúc vòng lặp:\n",
    "\n",
    "while điều kiện:\n",
    "    thực hiện khối lệnh\n",
    "## có thể không có đoạn này\n",
    "else:\n",
    "    điều kiện không thỏa thì thực hiện lệnh ở đây\n",
    "\n",
    "## lệnh thoát khỏi vòng lặp khi thỏa điều kiện:\n",
    "while điều kiện 1:\n",
    "    if điều kiện 2:\n",
    "        break\n",
    "    thực hiện khối lệnh\n",
    "## lệnh chuyển sang vòng lặp kế tiếp:\n",
    "while điều kiện 1:\n",
    "    if điều kiện 2:\n",
    "        continue\n",
    "    thực hiện khối lệnh"
   ]
  },
  {
   "cell_type": "code",
   "execution_count": null,
   "id": "1dce0f77",
   "metadata": {},
   "outputs": [
    {
     "name": "stdout",
     "output_type": "stream",
     "text": [
      "nhap vao chieu dai 1 canh: 50\n",
      "đã vẽ xong\n"
     ]
    }
   ],
   "source": [
    "## vẽ hình vuông\n",
    "import turtle\n",
    "pen = turtle.Turtle()\n",
    "\n",
    "canh = float(input(\"nhap vao chieu dai 1 canh: \"))\n",
    "so_canh = 1\n",
    "while so_canh < 5:\n",
    "    so_canh +=1\n",
    "    pen.forward(canh)\n",
    "    pen.rt(90)\n",
    "print(\"đã vẽ xong\")\n",
    "turtle.done()"
   ]
  },
  {
   "cell_type": "code",
   "execution_count": 1,
   "id": "c755a1c0",
   "metadata": {},
   "outputs": [
    {
     "name": "stdout",
     "output_type": "stream",
     "text": [
      "số lần vẽ là 5\n"
     ]
    }
   ],
   "source": [
    "## rùa tập thể dục:\n",
    "import turtle\n",
    "pen = turtle.Turtle()\n",
    "\n",
    "lan_nhay = 1\n",
    "khong_ve = 0\n",
    "while lan_nhay < 10:\n",
    "    pen.down()\n",
    "    if lan_nhay % 2 == 0:\n",
    "        pen.up()\n",
    "        khong_ve +=1\n",
    "    pen.forward(20)\n",
    "    lan_nhay +=1\n",
    "print(f\"số lần vẽ là {9-khong_ve}\")\n",
    "turtle.done()"
   ]
  },
  {
   "cell_type": "code",
   "execution_count": null,
   "id": "95c14b8b",
   "metadata": {},
   "outputs": [],
   "source": [
    "## rùa bị quản trong nhà\n",
    "import random\n",
    "import turtle\n",
    "pen = turtle.Turtle()\n",
    "\n",
    "\n",
    "buoc_nhay = 20\n",
    "lan_thoat = 0\n",
    "\n",
    "pen.up()\n",
    "pen.goto(-200,0)\n",
    "pen.rt(90)\n",
    "pen.down()\n",
    "pen.circle(200)\n",
    "pen.up()\n",
    "pen.goto(0,0)\n",
    "pen.down()\n",
    "\n",
    "while lan_thoat < 11:\n",
    "    if buoc_nhay >= 200:\n",
    "        buoc_nhay = 20\n",
    "        huong_nhay = random.randint(0,360)\n",
    "        pen.up()\n",
    "        pen.goto(0,0)\n",
    "        pen.down()\n",
    "        pen.rt(huong_nhay)\n",
    "        lan_thoat +=1\n",
    "    else:\n",
    "        pen.forward(20)\n",
    "        buoc_nhay +=20\n",
    "    \n",
    "turtle.done()"
   ]
  },
  {
   "cell_type": "code",
   "execution_count": null,
   "id": "45af7189",
   "metadata": {},
   "outputs": [],
   "source": [
    "## rùa bị quản trong nhà\n",
    "import random\n",
    "import turtle\n",
    "pen = turtle.Turtle()\n",
    "pen.speed(2)\n",
    "\n",
    "\n",
    "buoc_nhay = 20\n",
    "lan_thoat = 0\n",
    "\n",
    "pen.up()\n",
    "pen.goto(-200,0)\n",
    "pen.rt(45)\n",
    "pen.down()\n",
    "pen.circle(200, steps = 4)\n",
    "pen.up()\n",
    "pen.goto(-100,100)\n",
    "pen.down()\n",
    "\n",
    "while lan_thoat < 11:\n",
    "    if buoc_nhay >= 100:\n",
    "        buoc_nhay = 20\n",
    "        huong_nhay = random.randint(0,360)\n",
    "        pen.up()\n",
    "        pen.goto(-100,100)\n",
    "        pen.down()\n",
    "        pen.rt(huong_nhay)\n",
    "        lan_thoat +=1\n",
    "    else:\n",
    "        pen.forward(20)\n",
    "        buoc_nhay +=20\n",
    "    \n",
    "turtle.done()"
   ]
  },
  {
   "cell_type": "code",
   "execution_count": null,
   "id": "b609bda6",
   "metadata": {},
   "outputs": [
    {
     "name": "stdout",
     "output_type": "stream",
     "text": [
      "Nhap vao khoang cach: 200\n"
     ]
    }
   ],
   "source": [
    "## vẽ vòng xoáy ốc goc canh:\n",
    "import turtle\n",
    "import math\n",
    "pen = turtle.Turtle()\n",
    "\n",
    "color = [\"red\", 'blue', 'green', 'orange']\n",
    "space = int(input(\"Nhap vao khoang cach: \"))\n",
    "d = 1\n",
    "xoay = 61\n",
    "pen.goto(0,0)\n",
    "a = (0,0)\n",
    "b = (0,0)\n",
    "space_now = math.dist(a,b)\n",
    "\n",
    "while space_now <= space:\n",
    "    pen.pencolor(color[d%4])\n",
    "    pen.rt(xoay)\n",
    "    pen.forward(d)\n",
    "    b = (d,d)\n",
    "    space_now = math.dist(a,b)\n",
    "    d +=1\n",
    "turtle.done()"
   ]
  },
  {
   "cell_type": "code",
   "execution_count": null,
   "id": "ff9079e7",
   "metadata": {},
   "outputs": [],
   "source": [
    "## ve vong xoay tron tru\n",
    "import turtle\n",
    "pen = turtle.Turtle()\n",
    "for i in range(150):\n",
    "    pen.circle(i,-10)\n",
    "turtle.done()"
   ]
  },
  {
   "cell_type": "code",
   "execution_count": 2,
   "id": "86302287",
   "metadata": {},
   "outputs": [],
   "source": [
    "## ve hình elip:\n",
    "import turtle\n",
    "pen = turtle.Turtle()\n",
    "pen.rt(45)\n",
    "colors = [\"red\",'blue']\n",
    "r = 100\n",
    "for i in range(1,3):\n",
    "    pen.pencolor(colors[i%2])\n",
    "    pen.circle(r,90)\n",
    "    pen.pencolor(colors[(i+1)%2])\n",
    "    pen.circle(r/2,90)"
   ]
  },
  {
   "cell_type": "code",
   "execution_count": 1,
   "id": "4885edbb",
   "metadata": {},
   "outputs": [],
   "source": [
    "## ve elip long\n",
    "import turtle\n",
    "pen = turtle.Turtle()\n",
    "pen.speed(100)\n",
    "pen.pensize(10)\n",
    "colors = [\"red\",'blue','green','purple', 'orange']\n",
    "r = 100\n",
    "for i in range(1,19):\n",
    "    pen.rt(20)\n",
    "    pen.pencolor(colors[i%5])\n",
    "    for j in range(1,3):\n",
    "        pen.circle(r,90)\n",
    "        pen.circle(r/2,90)"
   ]
  }
 ],
 "metadata": {
  "kernelspec": {
   "display_name": "Python 3 (ipykernel)",
   "language": "python",
   "name": "python3"
  },
  "language_info": {
   "codemirror_mode": {
    "name": "ipython",
    "version": 3
   },
   "file_extension": ".py",
   "mimetype": "text/x-python",
   "name": "python",
   "nbconvert_exporter": "python",
   "pygments_lexer": "ipython3",
   "version": "3.10.7"
  }
 },
 "nbformat": 4,
 "nbformat_minor": 5
}
